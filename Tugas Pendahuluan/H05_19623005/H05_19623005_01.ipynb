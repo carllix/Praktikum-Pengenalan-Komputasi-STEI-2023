{
 "cells": [
  {
   "cell_type": "code",
   "execution_count": null,
   "metadata": {},
   "outputs": [],
   "source": [
    "# NIM/Nama  : 19623005/Carlo Angkisan\n",
    "# Tanggal   : 9 November 2023\n",
    "# Deskripsi : # 1. Menghitung dan menampilkan banyaknya data\n",
    "              # 2. Menampilkan 10 data pertama\n",
    "              # 3. Menampilkan data ke 50 sampai 60 (inklusif: data ke-50, data ke-51, . . . , data ke-60)\n",
    "              # 4. Menghitung dan menampilkan banyaknya mahasiswa tiap fakultas\n",
    "              # 5. Menampilkan nilai korelasi antara nilai fisika dan kimia dan menjelaskan jenis korelasi keduanya"
   ]
  },
  {
   "cell_type": "code",
   "execution_count": null,
   "metadata": {},
   "outputs": [],
   "source": [
    "# Mengimport library yang dibutuhkan\n",
    "import pandas as pd\n",
    "\n",
    "# Membaca data\n",
    "df = pd.read_csv('H05.csv')"
   ]
  },
  {
   "cell_type": "code",
   "execution_count": 2,
   "metadata": {},
   "outputs": [
    {
     "name": "stdout",
     "output_type": "stream",
     "text": [
      "Banyak data adalah 5135 data.\n"
     ]
    }
   ],
   "source": [
    "# 1. Menghitung dan menampilkan banyaknya data\n",
    "print(f\"Banyak data adalah {len(df)} data.\")"
   ]
  },
  {
   "cell_type": "code",
   "execution_count": 3,
   "metadata": {},
   "outputs": [
    {
     "name": "stdout",
     "output_type": "stream",
     "text": [
      "                             nama fakultas  nilai_mat  nilai_kim  nilai_fis\n",
      "0            Farhan Fathur Rahman    FMIPA      57.21      34.14      38.93\n",
      "1                  Steven Margono    FMIPA      67.43      51.50      57.20\n",
      "2                    Ryan Sentosa    SAPPK      90.62      37.38      40.73\n",
      "3            Muhajah Babny Muslim    FMIPA      72.31      38.80      44.79\n",
      "4                Alvin Natawiguna     FTSL      65.45      57.67      56.39\n",
      "5                   Sasti Safitri     FTSL      60.58      41.91      51.55\n",
      "6             Dani Yulianto Putra     FTSL      51.67      35.05      48.69\n",
      "7  Nabila Febitsukarizky Bunyamin     FTTM      71.66      67.61      69.75\n",
      "8             Ratna Siti Khodijah      FTI      73.06      59.16      59.48\n",
      "9                    Gita Partiwi     FTSL      69.57      38.84      48.17\n"
     ]
    }
   ],
   "source": [
    "# 2. Menampilkan 10 data pertama\n",
    "print(df[:10])"
   ]
  },
  {
   "cell_type": "code",
   "execution_count": 4,
   "metadata": {},
   "outputs": [
    {
     "name": "stdout",
     "output_type": "stream",
     "text": [
      "                        nama fakultas  nilai_mat  nilai_kim  nilai_fis\n",
      "49      Alief Rizky Ramadhan    SITHS      84.59      42.44      40.48\n",
      "50      Arief Syakur Sutedjo     FTTM      84.40      61.21      73.91\n",
      "51         Fayi Raihan Saleh    FMIPA      60.62      32.57      42.34\n",
      "52          Erna Kristiawati      FTI      67.48      46.78      52.30\n",
      "53                    Albert    SAPPK      70.27      50.10      54.01\n",
      "54  M Jazztyan Indra Pradana     STEI      53.40      43.06      60.30\n",
      "55      Moch Ginanjar Busiri    FMIPA      74.29      38.44      49.15\n",
      "56              Aisya Tamara     FITB      71.49      35.86      37.41\n",
      "57        Tyas Arum Widayati    SAPPK      68.57      37.02      53.25\n",
      "58                Arif Saleh      FTI     100.00      59.79      55.33\n",
      "59     Windy Diwita Nisaekti      FTI      67.15      57.72      54.24\n"
     ]
    }
   ],
   "source": [
    "# 3. Menampilkan data ke 50 sampai 60 (inklusif: data ke-50, data ke-51, . . . , data ke-60)\n",
    "print(df[49:60]) # index dimulai dari 0 yang berarti data ke-50 memiliki indeks 49"
   ]
  },
  {
   "cell_type": "code",
   "execution_count": 8,
   "metadata": {},
   "outputs": [
    {
     "name": "stdout",
     "output_type": "stream",
     "text": [
      "fakultas\n",
      "FTI      834\n",
      "STEI     777\n",
      "FTSL     660\n",
      "FMIPA    627\n",
      "FTTM     579\n",
      "FTMD     480\n",
      "FITB     403\n",
      "SAPPK    315\n",
      "SITHR    282\n",
      "SITHS    178\n",
      "Name: count, dtype: int64\n"
     ]
    }
   ],
   "source": [
    "# 4. Menghitung dan menampilkan banyaknya mahasiswa tiap fakultas\n",
    "print(df['fakultas'].value_counts())"
   ]
  },
  {
   "cell_type": "code",
   "execution_count": 9,
   "metadata": {},
   "outputs": [
    {
     "name": "stdout",
     "output_type": "stream",
     "text": [
      "Nilai korelasi antara nilai fisika dan kimia adalah 0.7988187423880275\n"
     ]
    }
   ],
   "source": [
    "# 5. Menampilkan nilai korelasi antara nilai fisika dan kimia\n",
    "print(f\"Nilai korelasi antara nilai fisika dan kimia adalah {df['nilai_fis'].corr(df['nilai_kim'])}\")"
   ]
  },
  {
   "cell_type": "markdown",
   "metadata": {},
   "source": [
    "Penjelasan output 5:\n",
    "Berdasarkan output dari program 5, nilai fisika dan kimia memiliki korelasi yang bernilai positif dan mendekati 1. Berdasarkan nilai korelasi tersebut, dapat disimpulkan bahwa nilai fisika dan kimia memiliki korelasi berbanding lurus, dimana semakin besar nilai fisika mahasiswa, maka semakin besar juga nilai kimia mahasiswa tersebut."
   ]
  }
 ],
 "metadata": {
  "kernelspec": {
   "display_name": "Python 3",
   "language": "python",
   "name": "python3"
  },
  "language_info": {
   "codemirror_mode": {
    "name": "ipython",
    "version": 3
   },
   "file_extension": ".py",
   "mimetype": "text/x-python",
   "name": "python",
   "nbconvert_exporter": "python",
   "pygments_lexer": "ipython3",
   "version": "3.11.4"
  }
 },
 "nbformat": 4,
 "nbformat_minor": 2
}
