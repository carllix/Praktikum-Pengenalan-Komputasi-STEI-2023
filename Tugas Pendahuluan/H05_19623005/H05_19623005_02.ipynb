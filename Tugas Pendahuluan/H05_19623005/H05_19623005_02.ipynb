{
 "cells": [
  {
   "cell_type": "code",
   "execution_count": null,
   "metadata": {},
   "outputs": [],
   "source": [
    "# NIM/Nama  : 19623005/Carlo Angkisan\n",
    "# Tanggal   : 9 November 2023\n",
    "# Deskripsi : # 1. Menampilkan nilai matematika, fisika, dan kimia milik Tuan Ric\n",
    "              # 2. Menampilkan mahasiswa dengan nilai fisika tertinggi. (jika lebih dari 1, tampilkan semua)\n",
    "              # 3. Menampilkan 10 mahasiswa dengan nilai kimia tertinggi\n",
    "              # 4. Menghitung dan menampilkan banyaknya mahasiswa yang mendapatkan nilai matematika di bawah 50\n",
    "              # 5. Menghitung dan menampilkan banyaknya mahasiswa FMIPA"
   ]
  },
  {
   "cell_type": "code",
   "execution_count": 2,
   "metadata": {},
   "outputs": [],
   "source": [
    "# Mengimport library yang dibutuhkan\n",
    "import pandas as pd\n",
    "\n",
    "# Membaca data\n",
    "df = pd.read_csv('H05.csv')"
   ]
  },
  {
   "cell_type": "code",
   "execution_count": 4,
   "metadata": {},
   "outputs": [
    {
     "name": "stdout",
     "output_type": "stream",
     "text": [
      "          nama fakultas  nilai_mat  nilai_kim  nilai_fis\n",
      "3513  Tuan Ric     STEI      96.78      62.23      30.53\n"
     ]
    }
   ],
   "source": [
    "# 1. Menampilkan nilai matematika, fisika, dan kimia milik Tuan Ric\n",
    "print(df.loc[df['nama']=='Tuan Ric'])"
   ]
  },
  {
   "cell_type": "code",
   "execution_count": 13,
   "metadata": {},
   "outputs": [
    {
     "name": "stdout",
     "output_type": "stream",
     "text": [
      "                         nama fakultas  nilai_mat  nilai_kim  nilai_fis\n",
      "1936  Yuniar Fazriani Rusmana     FITB      53.61      67.19      92.57\n"
     ]
    }
   ],
   "source": [
    "# 2. Menampilkan mahasiswa dengan nilai fisika tertinggi. (jika lebih dari 1, tampilkan semua)\n",
    "fisika_max = df['nilai_fis'].max() # mengambil nilai fisika tertinggi\n",
    "print(df.loc[df['nilai_fis']==fisika_max]) # menampilkan data mahasiswa yang mendapatkan nilai fisika tertinggi"
   ]
  },
  {
   "cell_type": "code",
   "execution_count": 7,
   "metadata": {},
   "outputs": [
    {
     "name": "stdout",
     "output_type": "stream",
     "text": [
      "                          nama fakultas  nilai_mat  nilai_kim  nilai_fis\n",
      "2554      Faathir Reza Avicena     FTSL      57.12      81.50      78.68\n",
      "2779      Dinda A A Z Mundakir     STEI      41.18      81.34      82.60\n",
      "3544        Tammya Ayu Purnomo    SITHS      74.49      81.20      78.58\n",
      "4934    Alyssa Nadhira Windari     FTMD      78.38      78.83      78.68\n",
      "1137          Izni Nur Ibrahim     STEI      56.70      78.46      84.34\n",
      "2262      Rinaldi Oky Setiawan     STEI      71.22      77.44      83.66\n",
      "4070      Ias Azhari Rezkyarno    FMIPA      62.85      76.90      81.52\n",
      "2945           Klara Petra T T     FTSL      73.39      76.61      78.12\n",
      "1788  Naudy Germanimo Laksmana     FTMD      62.29      76.38      76.15\n",
      "1310       Mardliyahtur Rohmah     STEI      63.15      76.36      74.06\n"
     ]
    }
   ],
   "source": [
    "# 3. Menampilkan 10 mahasiswa dengan nilai kimia tertinggi\n",
    "sort_nilai_kimia = df.sort_values(['nilai_kim'], ascending=False) # mengurutkan nilai kimia menurun (dari tinggi ke rendah)\n",
    "print(sort_nilai_kimia[:10]) # menampilkan data 10 mahasiswa dengan nilai kimia tertinggi"
   ]
  },
  {
   "cell_type": "code",
   "execution_count": 8,
   "metadata": {},
   "outputs": [
    {
     "name": "stdout",
     "output_type": "stream",
     "text": [
      "Banyaknya mahasiswa yang mendapatkan nilai matematika di bawah 50 adalah 329 orang.\n"
     ]
    }
   ],
   "source": [
    "# 4. Menghitung dan menampilkan banyaknya mahasiswa yang mendapatkan nilai matematika di bawah 50\n",
    "print(f\"Banyaknya mahasiswa yang mendapatkan nilai matematika di bawah 50 adalah {len(df.loc[df['nilai_mat']<50])} orang.\")"
   ]
  },
  {
   "cell_type": "code",
   "execution_count": 11,
   "metadata": {},
   "outputs": [
    {
     "name": "stdout",
     "output_type": "stream",
     "text": [
      "Banyaknya mahasiswa FMIPA adalah 627 orang.\n"
     ]
    }
   ],
   "source": [
    "# 5. Menghitung dan menampilkan banyaknya mahasiswa FMIPA\n",
    "print(f\"Banyaknya mahasiswa FMIPA adalah {len(df.loc[df['fakultas']=='FMIPA'])} orang.\")"
   ]
  }
 ],
 "metadata": {
  "kernelspec": {
   "display_name": "Python 3",
   "language": "python",
   "name": "python3"
  },
  "language_info": {
   "codemirror_mode": {
    "name": "ipython",
    "version": 3
   },
   "file_extension": ".py",
   "mimetype": "text/x-python",
   "name": "python",
   "nbconvert_exporter": "python",
   "pygments_lexer": "ipython3",
   "version": "3.11.4"
  }
 },
 "nbformat": 4,
 "nbformat_minor": 2
}
